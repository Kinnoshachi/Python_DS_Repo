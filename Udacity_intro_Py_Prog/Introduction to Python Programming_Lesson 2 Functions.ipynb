{
 "cells": [
  {
   "cell_type": "markdown",
   "metadata": {},
   "source": [
    "# Functions"
   ]
  },
  {
   "cell_type": "code",
   "execution_count": 1,
   "metadata": {
    "collapsed": true
   },
   "outputs": [],
   "source": [
    "def cylinder_volume(height, radius):\n",
    "    pi = 3.14159\n",
    "    return height * pi * radius ** 2"
   ]
  },
  {
   "cell_type": "code",
   "execution_count": 2,
   "metadata": {},
   "outputs": [
    {
     "data": {
      "text/plain": [
       "565.4862"
      ]
     },
     "execution_count": 2,
     "metadata": {},
     "output_type": "execute_result"
    }
   ],
   "source": [
    "cylinder_volume(20,3)"
   ]
  },
  {
   "cell_type": "code",
   "execution_count": 3,
   "metadata": {
    "collapsed": true
   },
   "outputs": [],
   "source": [
    "def population_density (population,land_area):\n",
    "    return population / land_area"
   ]
  },
  {
   "cell_type": "code",
   "execution_count": 4,
   "metadata": {
    "collapsed": true
   },
   "outputs": [],
   "source": [
    "test1 = population_density(10, 1)"
   ]
  },
  {
   "cell_type": "code",
   "execution_count": 6,
   "metadata": {},
   "outputs": [
    {
     "name": "stdout",
     "output_type": "stream",
     "text": [
      "expected result: 10, actual result: 10.0\n"
     ]
    }
   ],
   "source": [
    "expected_result1 = 10\n",
    "print(\"expected result: {}, actual result: {}\".format(expected_result1, test1))\n"
   ]
  },
  {
   "cell_type": "markdown",
   "metadata": {},
   "source": [
    "## Functions using Docstrings"
   ]
  },
  {
   "cell_type": "code",
   "execution_count": 7,
   "metadata": {
    "collapsed": true
   },
   "outputs": [],
   "source": [
    "def population_density(population, land_area):\n",
    "    \"\"\"Calculate the population density of an area.\n",
    "\n",
    "    population: int. The population of the area\n",
    "    land_area: int or float. This function is unit-agnostic, if you pass\n",
    "               in values in terms of square km or square miles the\n",
    "               function will return a density in those units.\n",
    "    \"\"\"\n",
    "    return population / land_area"
   ]
  },
  {
   "cell_type": "markdown",
   "metadata": {},
   "source": [
    "## A Function That Doesn't Return Anything"
   ]
  },
  {
   "cell_type": "code",
   "execution_count": 8,
   "metadata": {
    "collapsed": true
   },
   "outputs": [],
   "source": [
    "def print_testcase(expected_value, actual_value):\n",
    "    print(\"expected value: {}, actual value: {}\".format(expected_value, actual_value))"
   ]
  },
  {
   "cell_type": "code",
   "execution_count": 10,
   "metadata": {},
   "outputs": [
    {
     "name": "stdout",
     "output_type": "stream",
     "text": [
      "expected value: 42, actual value: 42\n"
     ]
    }
   ],
   "source": [
    "return_value = print_testcase(42, 42)"
   ]
  },
  {
   "cell_type": "markdown",
   "metadata": {},
   "source": [
    "## Days Function"
   ]
  },
  {
   "cell_type": "code",
   "execution_count": 11,
   "metadata": {
    "collapsed": true
   },
   "outputs": [],
   "source": [
    "def readable_timedelta(days):\n",
    "    \"\"\"Print the number of weeks and days in a number of days.\"\"\"\n",
    "    #to get the number of weeks we use integer division\n",
    "    weeks = days // 7\n",
    "    #to get the number of days that remain we use %, the modulus operator\n",
    "    remainder = days % 7\n",
    "    return \"{} week(s) and {} day(s)\".format(weeks, remainder)"
   ]
  },
  {
   "cell_type": "markdown",
   "metadata": {},
   "source": [
    "## If, Else, Elif"
   ]
  },
  {
   "cell_type": "code",
   "execution_count": 13,
   "metadata": {},
   "outputs": [
    {
     "name": "stdout",
     "output_type": "stream",
     "text": [
      "17.62\n",
      "94.39\n",
      "The number 145346334 is even.\n",
      "Somebody who is 35 years old will pay $2.5 to ride the bus.\n"
     ]
    }
   ],
   "source": [
    "#First Example - uncomment lines or change values to test the code\n",
    "phone_balance = 7.62\n",
    "bank_balance = 104.39\n",
    "#phone_balance = 12.34\n",
    "#bank_balance = 25\n",
    "if phone_balance < 10:\n",
    "    phone_balance += 10\n",
    "    bank_balance -= 10\n",
    "print(phone_balance)\n",
    "print(bank_balance)\n",
    "\n",
    "#Second Example\n",
    "\n",
    "#change the number to experiment!\n",
    "number = 145346334\n",
    "#number = 5 #3 sir\n",
    "if number % 2 == 0:\n",
    "    print(\"The number \" + str(number) + \" is even.\")\n",
    "else:\n",
    "    print(\"The number \" + str(number) + \" is odd.\")\n",
    "\n",
    "#Third Example \n",
    "\n",
    "#change the age to experiment with the pricing\n",
    "age = 35\n",
    "\n",
    "#set the age limits for bus fares\n",
    "free_up_to_age = 4\n",
    "child_up_to_age = 18\n",
    "senior_from_age = 65\n",
    "\n",
    "#set bus fares\n",
    "concession_ticket = 1.25\n",
    "adult_ticket = 2.50\n",
    "\n",
    "#ticket price logic\n",
    "if age <= free_up_to_age:\n",
    "    ticket_price = 0\n",
    "elif age <= child_up_to_age:\n",
    "    ticket_price = concession_ticket\n",
    "elif age >= senior_from_age:\n",
    "    ticket_price = concession_ticket\n",
    "else:\n",
    "    ticket_price = adult_ticket\n",
    "message = \"Somebody who is {} years old will pay ${} to ride the bus.\".format(age,ticket_price)\n",
    "print(message)"
   ]
  },
  {
   "cell_type": "code",
   "execution_count": 14,
   "metadata": {
    "collapsed": true
   },
   "outputs": [],
   "source": [
    "def which_prize(points):\n",
    "    \"\"\"\n",
    "    Returns the prize-winning message, given a number of points\n",
    "    \"\"\"\n",
    "    if points <= 50:\n",
    "        return \"Congratulations! You have won a wooden rabbit!\"\n",
    "    elif points <= 150:\n",
    "        return \"Oh dear, no prize this time.\"\n",
    "    elif points <= 180:\n",
    "        return \"Congratulations! You have won a wafer-thin mint!\"\n",
    "    else:\n",
    "        return \"Congratulations! You have won a penguin!\""
   ]
  },
  {
   "cell_type": "markdown",
   "metadata": {},
   "source": [
    "## boolean expressions"
   ]
  },
  {
   "cell_type": "code",
   "execution_count": 17,
   "metadata": {},
   "outputs": [
    {
     "name": "stdout",
     "output_type": "stream",
     "text": [
      "Is there a rainbow?\n"
     ]
    }
   ],
   "source": [
    "is_raining = True\n",
    "is_sunny = True\n",
    "if is_raining and is_sunny:\n",
    "    print(\"Is there a rainbow?\")"
   ]
  },
  {
   "cell_type": "code",
   "execution_count": 19,
   "metadata": {},
   "outputs": [],
   "source": [
    "#if (not do_not_email) and (location == \"USA\" or location == \"CAN\"):\n",
    "    #send_email()"
   ]
  },
  {
   "cell_type": "markdown",
   "metadata": {},
   "source": [
    "Do not compare a variable that is a boolean with == True or == False - it's more readable to avoid such a comparison. If you want to check whether a boolean is False, you can use not, for example\n"
   ]
  },
  {
   "cell_type": "code",
   "execution_count": null,
   "metadata": {
    "collapsed": true
   },
   "outputs": [],
   "source": [
    "#if not real_grail:\n",
    "    #print(\"It's a grail-shaped beacon!\")"
   ]
  }
 ],
 "metadata": {
  "kernelspec": {
   "display_name": "Python 3",
   "language": "python",
   "name": "python3"
  },
  "language_info": {
   "codemirror_mode": {
    "name": "ipython",
    "version": 3
   },
   "file_extension": ".py",
   "mimetype": "text/x-python",
   "name": "python",
   "nbconvert_exporter": "python",
   "pygments_lexer": "ipython3",
   "version": "3.6.3"
  }
 },
 "nbformat": 4,
 "nbformat_minor": 2
}
